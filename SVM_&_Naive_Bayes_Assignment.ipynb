{
  "nbformat": 4,
  "nbformat_minor": 0,
  "metadata": {
    "colab": {
      "provenance": []
    },
    "kernelspec": {
      "name": "python3",
      "display_name": "Python 3"
    },
    "language_info": {
      "name": "python"
    }
  },
  "cells": [
    {
      "cell_type": "markdown",
      "source": [
        "# **THEORETICAL**"
      ],
      "metadata": {
        "id": "x4rRGgAqWF3B"
      }
    },
    {
      "cell_type": "markdown",
      "source": [
        "## 1. What is a Support Vector Machine (SVM)?\n",
        "- SVM is a supervised machine learning algorithm used for classification and regression.\n",
        "- It tries to find the best boundary (line or hyperplane) that separates data points of different classes.\n",
        "\n",
        "## 2. What is the difference between Hard Margin and Soft Margin SVM?\n",
        "- Hard Margin: No data point can be inside the margin or misclassified — used only when data is perfectly separable.\n",
        "- Soft Margin: Allows some misclassifications — used in real-life problems where data is noisy or overlapping.\n",
        "\n",
        "## 3. What is the mathematical intuition behind SVM?\n",
        "- SVM finds the hyperplane that maximizes the margin between the classes.\n",
        "The margin is the distance between the hyperplane and the nearest data points (support vectors).\n",
        "\n",
        "## 4. What is the role of Lagrange Multipliers in SVM?\n",
        "- Lagrange Multipliers help in solving the optimization problem of finding the best hyperplane.\n",
        "- They convert the problem into a form that's easier to solve using calculus and constraints.\n",
        "\n",
        "## 5. What are Support Vectors in SVM?\n",
        "- Support Vectors are the data points closest to the hyperplane.\n",
        "- They are critical because they define the position and direction of the boundary.\n",
        "\n",
        "## 6. What is a Support Vector Classifier (SVC)?\n",
        "- SVC is the classification version of SVM — it separates different classes by finding the best decision boundary.\n",
        "\n",
        "## 7. What is a Support Vector Regressor (SVR)?\n",
        "- SVR is the regression version of SVM — it tries to fit a function (line or curve) that predicts a continuous value while keeping errors within a margin.\n",
        "\n",
        "## 8. What is the Kernel Trick in SVM?\n",
        "- The Kernel Trick allows SVM to work in higher dimensions without actually computing new features.\n",
        "- It helps SVM to classify non-linear data by projecting it into a higher space where it becomes linearly separable.\n",
        "\n",
        "## 9. Compare Linear Kernel, Polynomial Kernel, and RBF Kernel\n",
        "- Linear Kernel: Best for linearly separable data.\n",
        "- Polynomial Kernel: Good for complex data with curved boundaries.\n",
        "- RBF Kernel (Gaussian): Works well when there's no clear pattern — maps to infinite dimensions.\n",
        "\n",
        "## 10. What is the effect of the C parameter in SVM?\n",
        "- C controls the trade-off between having a wide margin and classifying every point correctly.\n",
        "- High C = less margin, fewer misclassifications (risk of overfitting)\n",
        "- Low C = more margin, allows some misclassifications (better generalization)\n",
        "\n",
        "## 11. What is the role of the Gamma parameter in RBF Kernel SVM?\n",
        "- Gamma defines how far the influence of a single training point reaches.\n",
        "- Low Gamma: Far reach (smoother boundary)\n",
        "- High Gamma: Close reach (more complex boundary, can overfit)\n",
        "\n",
        "## 12. What is the Naïve Bayes classifier, and why is it called \"Naïve\"?\n",
        "- Naïve Bayes is a probabilistic classifier based on Bayes' Theorem.\n",
        "- It's called “Naïve” because it assumes all features are independent — which is rarely true in real life.\n",
        "\n",
        "## 13. What is Bayes’ Theorem?\n",
        "- Bayes' Theorem calculates the probability of a class given the data:\n",
        "- P(Class | Data) = P(Data | Class) x P(Class) / P(Data)\n",
        "\n",
        "\n",
        "## 14. Differences between Gaussian, Multinomial, and Bernoulli Naïve Bayes:\n",
        "- Gaussian: For continuous data (like age, height)\n",
        "- Multinomial: For count data (like word frequency)\n",
        "- Bernoulli: For binary features (like yes/no, 0/1)\n",
        "\n",
        "## 15. When should you use Gaussian Naïve Bayes over others?\n",
        "- Use Gaussian Naïve Bayes when your features are continuous and look like a normal distribution.\n",
        "\n",
        "## 16. What are the key assumptions made by Naïve Bayes?\n",
        "- Features are independent of each other.\n",
        "- Every feature contributes equally and independently to the result.\n",
        "\n",
        "## 17. What are the advantages and disadvantages of Naïve Bayes?\n",
        "### Advantages:\n",
        "- Simple and fast\n",
        "- Works well with large datasets\n",
        "- Good for text classification\n",
        "\n",
        "### Disadvantages:\n",
        "- Assumes feature independence (which is rarely true)\n",
        "- Doesn't handle missing or correlated data well\n",
        "\n",
        "## 18. Why is Naïve Bayes a good choice for text classification?\n",
        "- Because:\n",
        "  - It works well with word frequency data\n",
        "  - Assumes features (words) are independent — which is mostly true in text\n",
        "  - It's very fast and accurate for spam detection, sentiment analysis, etc.\n",
        "\n",
        "## 19. Compare SVM and Naïve Bayes for classification tasks:\n",
        "| Feature         | SVM                            | Naïve Bayes                 |\n",
        "| --------------- | ------------------------------ | --------------------------- |\n",
        "| Accuracy        | Often higher                   | Good with large/simple data |\n",
        "| Speed           | Slower                         | Very fast                   |\n",
        "| Works well with | Complex, high-dimensional data | Text, word frequency data   |\n",
        "| Model type      | Discriminative                 | Probabilistic (Generative)  |\n",
        "\n",
        "\n",
        "## 20. How does Laplace Smoothing help in Naïve Bayes?\n",
        "- Laplace Smoothing avoids zero probabilities for words that did't appear in training data.\n",
        "- Example:\n",
        "  - If a word doesn't appear in class A, probability becomes 0.\n",
        "  - With Laplace smoothing, we add 1 to all counts, so every word gets some probability, even if it wasn't seen before."
      ],
      "metadata": {
        "id": "IAqUl4JmWVYt"
      }
    },
    {
      "cell_type": "markdown",
      "source": [
        "# **PRACTICAL**"
      ],
      "metadata": {
        "id": "O5PPGa9xYzme"
      }
    },
    {
      "cell_type": "markdown",
      "source": [
        "## 21. Write a Python program to train an SVM Classifier on the Iris dataset and evaluate accuracy.\n",
        "\n",
        "## 22. Write a Python program to train two SVM classifiers with Linear and RBF kernels on the Wine dataset, then compare their accuracies.\n",
        "\n",
        "## 23. Write a Python program to train an SVM Regressor (SVR) on a housing dataset and evaluate it using Mean Squared Error (MSE).\n",
        "\n",
        "## 24. Write a Python program to train an SVM Classifier with a Polynomial Kernel and visualize the decision boundary.\n",
        "\n",
        "## 25. Write a Python program to train a Gaussian Naïve Bayes classifier on the Breast Cancer dataset and evaluate accuracy.\n",
        "\n",
        "## 26. Write a Python program to train a Multinomial Naïve Bayes classifier for text classification using the 20 Newsgroups dataset.\n",
        "\n",
        "## 27. Write a Python program to train an SVM Classifier with different C values and compare the decision boundaries visually.\n",
        "\n",
        "## 28. Write a Python program to train a Bernoulli Naïve Bayes classifier for binary classification on a dataset with binary features.\n",
        "\n",
        "## 29. Write a Python program to apply feature scaling before training an SVM model and compare results with unscaled data.\n",
        "\n",
        "## 30. Write a Python program to train a Gaussian Naïve Bayes model and compare the predictions before and after Laplace Smoothing.\n",
        "\n",
        "## 31. Write a Python program to train an SVM Classifier and use GridSearchCV to tune the hyperparameters (C, gamma, kernel).\n",
        "\n",
        "## 32. Write a Python program to train an SVM Classifier on an imbalanced dataset and apply class weighting and check it improve accuracy.\n",
        "\n",
        "## 33. Write a Python program to implement a Naïve Bayes classifier for spam detection using email data=\n",
        "\n",
        "## 34. Write a Python program to train an SVM Classifier and a Naïve Bayes Classifier on the same dataset and compare their accuracy.\n",
        "\n",
        "## 35. Write a Python program to perform feature selection before training a Naïve Bayes classifier and compare results.\n",
        "\n"
      ],
      "metadata": {
        "id": "j1JE0n4XZjRe"
      }
    },
    {
      "cell_type": "code",
      "execution_count": 1,
      "metadata": {
        "colab": {
          "base_uri": "https://localhost:8080/"
        },
        "id": "d0q30CZ5V8_I",
        "outputId": "baa02657-886d-452b-c7f2-c7689fe8af96"
      },
      "outputs": [
        {
          "output_type": "stream",
          "name": "stdout",
          "text": [
            "Accuracy on Iris dataset: 1.0\n"
          ]
        }
      ],
      "source": [
        "# Solution 21\n",
        "\n",
        "from sklearn import datasets\n",
        "from sklearn.model_selection import train_test_split\n",
        "from sklearn.svm import SVC\n",
        "from sklearn.metrics import accuracy_score\n",
        "\n",
        "# Load dataset\n",
        "iris = datasets.load_iris()\n",
        "X = iris.data\n",
        "y = iris.target\n",
        "\n",
        "# Train-test split\n",
        "X_train, X_test, y_train, y_test = train_test_split(X, y, test_size=0.3, random_state=42)\n",
        "\n",
        "# Train SVM classifier\n",
        "model = SVC(kernel='linear')\n",
        "model.fit(X_train, y_train)\n",
        "\n",
        "# Predict and evaluate\n",
        "y_pred = model.predict(X_test)\n",
        "accuracy = accuracy_score(y_test, y_pred)\n",
        "print(\"Accuracy on Iris dataset:\", accuracy)"
      ]
    },
    {
      "cell_type": "code",
      "source": [
        "# Solution 22\n",
        "\n",
        "from sklearn import datasets\n",
        "from sklearn.model_selection import train_test_split\n",
        "from sklearn.svm import SVC\n",
        "from sklearn.metrics import accuracy_score\n",
        "\n",
        "# Load dataset\n",
        "wine = datasets.load_wine()\n",
        "X = wine.data\n",
        "y = wine.target\n",
        "\n",
        "# Train-test split\n",
        "X_train, X_test, y_train, y_test = train_test_split(X, y, test_size=0.3, random_state=42)\n",
        "\n",
        "# SVM with linear kernel\n",
        "svm_linear = SVC(kernel='linear')\n",
        "svm_linear.fit(X_train, y_train)\n",
        "acc_linear = accuracy_score(y_test, svm_linear.predict(X_test))\n",
        "\n",
        "# SVM with RBF kernel\n",
        "svm_rbf = SVC(kernel='rbf')\n",
        "svm_rbf.fit(X_train, y_train)\n",
        "acc_rbf = accuracy_score(y_test, svm_rbf.predict(X_test))\n",
        "\n",
        "print(\"Linear Kernel Accuracy:\", acc_linear)\n",
        "print(\"RBF Kernel Accuracy:\", acc_rbf)"
      ],
      "metadata": {
        "colab": {
          "base_uri": "https://localhost:8080/"
        },
        "id": "N4MTr3oxbWcc",
        "outputId": "804472db-2df0-4af3-a12c-df9fffd25f8d"
      },
      "execution_count": 2,
      "outputs": [
        {
          "output_type": "stream",
          "name": "stdout",
          "text": [
            "Linear Kernel Accuracy: 0.9814814814814815\n",
            "RBF Kernel Accuracy: 0.7592592592592593\n"
          ]
        }
      ]
    },
    {
      "cell_type": "code",
      "source": [
        "# Solution 23\n",
        "\n",
        "from sklearn.datasets import fetch_california_housing\n",
        "from sklearn.model_selection import train_test_split\n",
        "from sklearn.svm import SVR\n",
        "from sklearn.metrics import mean_squared_error\n",
        "\n",
        "# Load housing data\n",
        "data = fetch_california_housing()\n",
        "X = data.data\n",
        "y = data.target\n",
        "\n",
        "# Train-test split\n",
        "X_train, X_test, y_train, y_test = train_test_split(X, y, test_size=0.2, random_state=42)\n",
        "\n",
        "# Train SVR model\n",
        "svr = SVR(kernel='rbf')\n",
        "svr.fit(X_train, y_train)\n",
        "\n",
        "# Predict and evaluate\n",
        "y_pred = svr.predict(X_test)\n",
        "mse = mean_squared_error(y_test, y_pred)\n",
        "print(\"Mean Squared Error on housing data:\", mse)"
      ],
      "metadata": {
        "colab": {
          "base_uri": "https://localhost:8080/"
        },
        "id": "5OLt5TYuba4n",
        "outputId": "8ae0b207-e7ec-4b0f-c030-ab18c3f39016"
      },
      "execution_count": 3,
      "outputs": [
        {
          "output_type": "stream",
          "name": "stdout",
          "text": [
            "Mean Squared Error on housing data: 1.3320115421348744\n"
          ]
        }
      ]
    },
    {
      "cell_type": "code",
      "source": [
        "# Solution 24\n",
        "\n",
        "import numpy as np\n",
        "import matplotlib.pyplot as plt\n",
        "from sklearn.datasets import make_classification\n",
        "from sklearn.svm import SVC\n",
        "\n",
        "# Create synthetic data\n",
        "X, y = make_classification(n_samples=100, n_features=2, n_informative=2,\n",
        "                           n_redundant=0, n_classes=2, random_state=42)\n",
        "\n",
        "# Train SVM with polynomial kernel\n",
        "clf = SVC(kernel='poly', degree=3, C=1)\n",
        "clf.fit(X, y)\n",
        "\n",
        "# Plot decision boundary\n",
        "def plot_decision_boundary(model, X, y):\n",
        "    x_min, x_max = X[:, 0].min() - 1, X[:, 0].max() + 1\n",
        "    y_min, y_max = X[:, 1].min() - 1, X[:, 1].max() + 1\n",
        "    xx, yy = np.meshgrid(np.linspace(x_min, x_max, 500),\n",
        "                         np.linspace(y_min, y_max, 500))\n",
        "    Z = model.predict(np.c_[xx.ravel(), yy.ravel()])\n",
        "    Z = Z.reshape(xx.shape)\n",
        "    plt.contourf(xx, yy, Z, alpha=0.3)\n",
        "    plt.scatter(X[:, 0], X[:, 1], c=y, edgecolors='k')\n",
        "    plt.title(\"SVM with Polynomial Kernel\")\n",
        "    plt.xlabel(\"Feature 1\")\n",
        "    plt.ylabel(\"Feature 2\")\n",
        "    plt.show()\n",
        "\n",
        "plot_decision_boundary(clf, X, y)\n"
      ],
      "metadata": {
        "colab": {
          "base_uri": "https://localhost:8080/",
          "height": 472
        },
        "id": "H5MjAe1AbhnG",
        "outputId": "a98ef9d4-f04e-4ce1-88d0-98c09d1f3e51"
      },
      "execution_count": 4,
      "outputs": [
        {
          "output_type": "display_data",
          "data": {
            "text/plain": [
              "<Figure size 640x480 with 1 Axes>"
            ],
            "image/png": "[encoded data removed]"
          },
          "metadata": {}
        }
      ]
    },
    {
      "cell_type": "code",
      "source": [
        "# Solution 25\n",
        "\n",
        "from sklearn.datasets import load_breast_cancer\n",
        "from sklearn.model_selection import train_test_split\n",
        "from sklearn.naive_bayes import GaussianNB\n",
        "from sklearn.metrics import accuracy_score\n",
        "\n",
        "# Load data\n",
        "data = load_breast_cancer()\n",
        "X = data.data\n",
        "y = data.target\n",
        "\n",
        "# Split\n",
        "X_train, X_test, y_train, y_test = train_test_split(X, y, test_size=0.3, random_state=42)\n",
        "\n",
        "# Train Naive Bayes model\n",
        "nb = GaussianNB()\n",
        "nb.fit(X_train, y_train)\n",
        "\n",
        "# Predict and evaluate\n",
        "y_pred = nb.predict(X_test)\n",
        "accuracy = accuracy_score(y_test, y_pred)\n",
        "print(\"Accuracy of Gaussian Naive Bayes on Breast Cancer data:\", accuracy)\n"
      ],
      "metadata": {
        "colab": {
          "base_uri": "https://localhost:8080/"
        },
        "id": "9d0pvMombpPL",
        "outputId": "07a8802d-f414-427e-a381-040b0a6e6f94"
      },
      "execution_count": 5,
      "outputs": [
        {
          "output_type": "stream",
          "name": "stdout",
          "text": [
            "Accuracy of Gaussian Naive Bayes on Breast Cancer data: 0.9415204678362573\n"
          ]
        }
      ]
    },
    {
      "cell_type": "code",
      "source": [
        "# Solution 26\n",
        "\n",
        "from sklearn.datasets import fetch_20newsgroups\n",
        "from sklearn.feature_extraction.text import CountVectorizer\n",
        "from sklearn.naive_bayes import MultinomialNB\n",
        "from sklearn.model_selection import train_test_split\n",
        "from sklearn.metrics import accuracy_score\n",
        "\n",
        "# Load data\n",
        "data = fetch_20newsgroups(subset='all', categories=['sci.space', 'rec.sport.baseball'])\n",
        "X_train, X_test, y_train, y_test = train_test_split(data.data, data.target, random_state=42)\n",
        "\n",
        "# Vectorize text\n",
        "vectorizer = CountVectorizer()\n",
        "X_train_vec = vectorizer.fit_transform(X_train)\n",
        "X_test_vec = vectorizer.transform(X_test)\n",
        "\n",
        "# Train model\n",
        "model = MultinomialNB()\n",
        "model.fit(X_train_vec, y_train)\n",
        "\n",
        "# Evaluate\n",
        "accuracy = accuracy_score(y_test, model.predict(X_test_vec))\n",
        "print(\"Accuracy:\", accuracy)"
      ],
      "metadata": {
        "colab": {
          "base_uri": "https://localhost:8080/"
        },
        "id": "wTm0k4X2b7ak",
        "outputId": "2244e47b-3b06-4e14-bf14-7a29d561645d"
      },
      "execution_count": 6,
      "outputs": [
        {
          "output_type": "stream",
          "name": "stdout",
          "text": [
            "Accuracy: 1.0\n"
          ]
        }
      ]
    },
    {
      "cell_type": "code",
      "source": [
        "# Solution 27\n",
        "\n",
        "import numpy as np\n",
        "import matplotlib.pyplot as plt\n",
        "from sklearn.datasets import make_classification\n",
        "from sklearn.svm import SVC\n",
        "\n",
        "# Create data\n",
        "X, y = make_classification(n_samples=100, n_features=2, n_informative=2, n_redundant=0, random_state=42)\n",
        "\n",
        "def plot_svm(c_value):\n",
        "    model = SVC(kernel='linear', C=c_value)\n",
        "    model.fit(X, y)\n",
        "    plt.figure()\n",
        "    ax = plt.gca()\n",
        "    xlim = ax.set_xlim(X[:, 0].min()-1, X[:, 0].max()+1)\n",
        "    ylim = ax.set_ylim(X[:, 1].min()-1, X[:, 1].max()+1)\n",
        "    xx, yy = np.meshgrid(np.linspace(*xlim, 500), np.linspace(*ylim, 500))\n",
        "    Z = model.predict(np.c_[xx.ravel(), yy.ravel()]).reshape(xx.shape)\n",
        "    plt.contourf(xx, yy, Z, alpha=0.3)\n",
        "    plt.scatter(X[:, 0], X[:, 1], c=y)\n",
        "    plt.title(f\"SVM with C={c_value}\")\n",
        "    plt.show()\n",
        "\n",
        "plot_svm(0.01)\n",
        "plot_svm(1)\n",
        "plot_svm(100)"
      ],
      "metadata": {
        "colab": {
          "base_uri": "https://localhost:8080/",
          "height": 1000
        },
        "id": "VoXuMge6b9y8",
        "outputId": "74154980-48d2-4786-9aad-7ee210e63120"
      },
      "execution_count": 7,
      "outputs": [
        {
          "output_type": "display_data",
          "data": {
            "text/plain": [
              "<Figure size 640x480 with 1 Axes>"
            ],
            "image/png": "[encoded data removed]"
          },
          "metadata": {}
        },
        {
          "output_type": "display_data",
          "data": {
            "text/plain": [
              "<Figure size 640x480 with 1 Axes>"
            ],
            "image/png": "[encoded data removed]"
          },
          "metadata": {}
        },
        {
          "output_type": "display_data",
          "data": {
            "text/plain": [
              "<Figure size 640x480 with 1 Axes>"
            ],
            "image/png": "[encoded data removed]"
          },
          "metadata": {}
        }
      ]
    },
    {
      "cell_type": "code",
      "source": [
        "# Solution 28\n",
        "\n",
        "from sklearn.naive_bayes import BernoulliNB\n",
        "from sklearn.model_selection import train_test_split\n",
        "from sklearn.metrics import accuracy_score\n",
        "from sklearn.datasets import make_classification\n",
        "\n",
        "# Create binary feature dataset\n",
        "X, y = make_classification(n_samples=1000, n_features=10, n_informative=5, random_state=42)\n",
        "X_binary = (X > 0).astype(int)\n",
        "\n",
        "# Train-test split\n",
        "X_train, X_test, y_train, y_test = train_test_split(X_binary, y, test_size=0.2, random_state=42)\n",
        "\n",
        "# Train Bernoulli NB\n",
        "model = BernoulliNB()\n",
        "model.fit(X_train, y_train)\n",
        "\n",
        "# Evaluate\n",
        "print(\"Accuracy:\", accuracy_score(y_test, model.predict(X_test)))"
      ],
      "metadata": {
        "colab": {
          "base_uri": "https://localhost:8080/"
        },
        "id": "WbK4gAwwcGJr",
        "outputId": "e33f83c9-ab3f-4e20-f65f-af4028fa3146"
      },
      "execution_count": 8,
      "outputs": [
        {
          "output_type": "stream",
          "name": "stdout",
          "text": [
            "Accuracy: 0.775\n"
          ]
        }
      ]
    },
    {
      "cell_type": "code",
      "source": [
        "# Solution 29\n",
        "\n",
        "from sklearn.datasets import load_wine\n",
        "from sklearn.svm import SVC\n",
        "from sklearn.model_selection import train_test_split\n",
        "from sklearn.metrics import accuracy_score\n",
        "from sklearn.preprocessing import StandardScaler\n",
        "\n",
        "# Load dataset\n",
        "data = load_wine()\n",
        "X_train, X_test, y_train, y_test = train_test_split(data.data, data.target, random_state=42)\n",
        "\n",
        "# Without scaling\n",
        "model_unscaled = SVC()\n",
        "model_unscaled.fit(X_train, y_train)\n",
        "print(\"Accuracy without scaling:\", accuracy_score(y_test, model_unscaled.predict(X_test)))\n",
        "\n",
        "# With scaling\n",
        "scaler = StandardScaler()\n",
        "X_train_scaled = scaler.fit_transform(X_train)\n",
        "X_test_scaled = scaler.transform(X_test)\n",
        "\n",
        "model_scaled = SVC()\n",
        "model_scaled.fit(X_train_scaled, y_train)\n",
        "print(\"Accuracy with scaling:\", accuracy_score(y_test, model_scaled.predict(X_test_scaled)))"
      ],
      "metadata": {
        "colab": {
          "base_uri": "https://localhost:8080/"
        },
        "id": "zCLe8g5ucKYl",
        "outputId": "a65ba287-757a-4c46-f3d2-560d6b64b328"
      },
      "execution_count": 9,
      "outputs": [
        {
          "output_type": "stream",
          "name": "stdout",
          "text": [
            "Accuracy without scaling: 0.7111111111111111\n",
            "Accuracy with scaling: 0.9777777777777777\n"
          ]
        }
      ]
    },
    {
      "cell_type": "code",
      "source": [
        "# Solution 30\n",
        "\n",
        "from sklearn.datasets import load_breast_cancer\n",
        "from sklearn.model_selection import train_test_split\n",
        "from sklearn.naive_bayes import GaussianNB\n",
        "from sklearn.metrics import accuracy_score\n",
        "\n",
        "# Load data\n",
        "X, y = load_breast_cancer(return_X_y=True)\n",
        "X_train, X_test, y_train, y_test = train_test_split(X, y, random_state=42)\n",
        "\n",
        "# Normal NB\n",
        "model = GaussianNB()\n",
        "model.fit(X_train, y_train)\n",
        "acc1 = accuracy_score(y_test, model.predict(X_test))\n",
        "\n",
        "# Laplace smoothing isn't used in GaussianNB (only in Multinomial/Bernoulli), so acc1 = acc2\n",
        "print(\"Accuracy (GaussianNB):\", acc1)\n",
        "print(\"Note: Laplace Smoothing does not apply to GaussianNB.\")"
      ],
      "metadata": {
        "colab": {
          "base_uri": "https://localhost:8080/"
        },
        "id": "cOU2ZZU_cOcL",
        "outputId": "e8833806-3b58-471e-ddfc-9a63680f978f"
      },
      "execution_count": 10,
      "outputs": [
        {
          "output_type": "stream",
          "name": "stdout",
          "text": [
            "Accuracy (GaussianNB): 0.958041958041958\n",
            "Note: Laplace Smoothing does not apply to GaussianNB.\n"
          ]
        }
      ]
    },
    {
      "cell_type": "code",
      "source": [
        "# Solution 31\n",
        "\n",
        "from sklearn.model_selection import GridSearchCV\n",
        "from sklearn.svm import SVC\n",
        "from sklearn.datasets import load_iris\n",
        "from sklearn.model_selection import train_test_split\n",
        "from sklearn.metrics import accuracy_score\n",
        "\n",
        "# Load dataset\n",
        "X, y = load_iris(return_X_y=True)\n",
        "X_train, X_test, y_train, y_test = train_test_split(X, y, random_state=42)\n",
        "\n",
        "# Grid search\n",
        "param_grid = {\n",
        "    'C': [0.1, 1, 10],\n",
        "    'gamma': ['scale', 'auto'],\n",
        "    'kernel': ['linear', 'rbf']\n",
        "}\n",
        "grid = GridSearchCV(SVC(), param_grid, cv=3)\n",
        "grid.fit(X_train, y_train)\n",
        "\n",
        "# Best model\n",
        "print(\"Best Params:\", grid.best_params_)\n",
        "print(\"Best Accuracy:\", grid.score(X_test, y_test))"
      ],
      "metadata": {
        "colab": {
          "base_uri": "https://localhost:8080/"
        },
        "id": "f8EtBUcpcT_u",
        "outputId": "6b27e9ef-d55e-47b0-f871-fb6b465466e1"
      },
      "execution_count": 11,
      "outputs": [
        {
          "output_type": "stream",
          "name": "stdout",
          "text": [
            "Best Params: {'C': 1, 'gamma': 'scale', 'kernel': 'linear'}\n",
            "Best Accuracy: 1.0\n"
          ]
        }
      ]
    },
    {
      "cell_type": "code",
      "source": [
        "# Solution 32\n",
        "\n",
        "from sklearn.datasets import make_classification\n",
        "from sklearn.svm import SVC\n",
        "from sklearn.model_selection import train_test_split\n",
        "from sklearn.metrics import classification_report\n",
        "\n",
        "# Create imbalanced dataset\n",
        "X, y = make_classification(n_samples=1000, weights=[0.9, 0.1], n_classes=2, random_state=42)\n",
        "X_train, X_test, y_train, y_test = train_test_split(X, y, random_state=42)\n",
        "\n",
        "# Without class weight\n",
        "model1 = SVC()\n",
        "model1.fit(X_train, y_train)\n",
        "print(\"Without class weight:\")\n",
        "print(classification_report(y_test, model1.predict(X_test)))\n",
        "\n",
        "# With class weight\n",
        "model2 = SVC(class_weight='balanced')\n",
        "model2.fit(X_train, y_train)\n",
        "print(\"With class weight:\")\n",
        "print(classification_report(y_test, model2.predict(X_test)))"
      ],
      "metadata": {
        "colab": {
          "base_uri": "https://localhost:8080/"
        },
        "id": "S2HhENo-cZB6",
        "outputId": "460253c3-ca6d-4331-8307-f61346ac2c74"
      },
      "execution_count": 12,
      "outputs": [
        {
          "output_type": "stream",
          "name": "stdout",
          "text": [
            "Without class weight:\n",
            "              precision    recall  f1-score   support\n",
            "\n",
            "           0       0.93      0.98      0.95       226\n",
            "           1       0.58      0.29      0.39        24\n",
            "\n",
            "    accuracy                           0.91       250\n",
            "   macro avg       0.76      0.63      0.67       250\n",
            "weighted avg       0.90      0.91      0.90       250\n",
            "\n",
            "With class weight:\n",
            "              precision    recall  f1-score   support\n",
            "\n",
            "           0       0.96      0.95      0.95       226\n",
            "           1       0.56      0.58      0.57        24\n",
            "\n",
            "    accuracy                           0.92       250\n",
            "   macro avg       0.76      0.77      0.76       250\n",
            "weighted avg       0.92      0.92      0.92       250\n",
            "\n"
          ]
        }
      ]
    },
    {
      "cell_type": "code",
      "source": [
        "# Solution 33\n",
        "\n",
        "from sklearn.model_selection import train_test_split\n",
        "from sklearn.naive_bayes import MultinomialNB\n",
        "from sklearn.feature_extraction.text import CountVectorizer\n",
        "from sklearn.metrics import accuracy_score\n",
        "\n",
        "# Example data\n",
        "emails = ['Win money now!', 'Important project meeting tomorrow', 'Get cheap meds', 'Hi friend, long time no see']\n",
        "labels = [1, 0, 1, 0]  # 1: Spam, 0: Not spam\n",
        "\n",
        "# Vectorize\n",
        "vectorizer = CountVectorizer()\n",
        "X = vectorizer.fit_transform(emails)\n",
        "\n",
        "# Train\n",
        "X_train, X_test, y_train, y_test = train_test_split(X, labels, test_size=0.5, random_state=42)\n",
        "model = MultinomialNB()\n",
        "model.fit(X_train, y_train)\n",
        "\n",
        "# Predict\n",
        "y_pred = model.predict(X_test)\n",
        "print(\"Accuracy:\", accuracy_score(y_test, y_pred))"
      ],
      "metadata": {
        "colab": {
          "base_uri": "https://localhost:8080/"
        },
        "id": "Br9bxl8scdEV",
        "outputId": "ff082383-cc47-4fec-aa61-f67f972c4858"
      },
      "execution_count": 13,
      "outputs": [
        {
          "output_type": "stream",
          "name": "stdout",
          "text": [
            "Accuracy: 0.0\n"
          ]
        }
      ]
    },
    {
      "cell_type": "code",
      "source": [
        "# Solutuion 34\n",
        "\n",
        "from sklearn.datasets import load_iris\n",
        "from sklearn.model_selection import train_test_split\n",
        "from sklearn.svm import SVC\n",
        "from sklearn.naive_bayes import GaussianNB\n",
        "from sklearn.metrics import accuracy_score\n",
        "\n",
        "# Load data\n",
        "X, y = load_iris(return_X_y=True)\n",
        "X_train, X_test, y_train, y_test = train_test_split(X, y, random_state=42)\n",
        "\n",
        "# SVM\n",
        "svm = SVC()\n",
        "svm.fit(X_train, y_train)\n",
        "acc_svm = accuracy_score(y_test, svm.predict(X_test))\n",
        "\n",
        "# Naïve Bayes\n",
        "nb = GaussianNB()\n",
        "nb.fit(X_train, y_train)\n",
        "acc_nb = accuracy_score(y_test, nb.predict(X_test))\n",
        "\n",
        "print(\"SVM Accuracy:\", acc_svm)\n",
        "print(\"Naïve Bayes Accuracy:\", acc_nb)"
      ],
      "metadata": {
        "colab": {
          "base_uri": "https://localhost:8080/"
        },
        "id": "gzF7-wBocghg",
        "outputId": "890cea88-940f-4fb7-c3ee-df8e95766c35"
      },
      "execution_count": 14,
      "outputs": [
        {
          "output_type": "stream",
          "name": "stdout",
          "text": [
            "SVM Accuracy: 1.0\n",
            "Naïve Bayes Accuracy: 1.0\n"
          ]
        }
      ]
    },
    {
      "cell_type": "code",
      "source": [
        "# Solution 35\n",
        "\n",
        "from sklearn.feature_selection import SelectKBest, f_classif\n",
        "from sklearn.datasets import load_wine\n",
        "from sklearn.model_selection import train_test_split\n",
        "from sklearn.naive_bayes import GaussianNB\n",
        "from sklearn.metrics import accuracy_score\n",
        "\n",
        "# Load data\n",
        "X, y = load_wine(return_X_y=True)\n",
        "X_train, X_test, y_train, y_test = train_test_split(X, y, random_state=42)\n",
        "\n",
        "# Without feature selection\n",
        "model = GaussianNB()\n",
        "model.fit(X_train, y_train)\n",
        "acc_full = accuracy_score(y_test, model.predict(X_test))\n",
        "\n",
        "# With feature selection\n",
        "selector = SelectKBest(score_func=f_classif, k=5)\n",
        "X_train_selected = selector.fit_transform(X_train, y_train)\n",
        "X_test_selected = selector.transform(X_test)\n",
        "\n",
        "model.fit(X_train_selected, y_train)\n",
        "acc_selected = accuracy_score(y_test, model.predict(X_test_selected))\n",
        "\n",
        "print(\"Accuracy without feature selection:\", acc_full)\n",
        "print(\"Accuracy with feature selection:\", acc_selected)"
      ],
      "metadata": {
        "colab": {
          "base_uri": "https://localhost:8080/"
        },
        "id": "Wk_KUm9xckRx",
        "outputId": "b9202f31-c4b2-477f-eb07-685259ffa58f"
      },
      "execution_count": 15,
      "outputs": [
        {
          "output_type": "stream",
          "name": "stdout",
          "text": [
            "Accuracy without feature selection: 1.0\n",
            "Accuracy with feature selection: 0.9333333333333333\n"
          ]
        }
      ]
    },
    {
      "cell_type": "code",
      "source": [
        "# Solution 36\n",
        "\n",
        "from sklearn.datasets import load_wine\n",
        "from sklearn.model_selection import train_test_split\n",
        "from sklearn.svm import SVC\n",
        "from sklearn.multiclass import OneVsRestClassifier, OneVsOneClassifier\n",
        "from sklearn.metrics import accuracy_score\n",
        "\n",
        "X, y = load_wine(return_X_y=True)\n",
        "X_train, X_test, y_train, y_test = train_test_split(X, y, random_state=42)\n",
        "\n",
        "# One-vs-Rest\n",
        "ovr = OneVsRestClassifier(SVC(kernel='linear'))\n",
        "ovr.fit(X_train, y_train)\n",
        "acc_ovr = accuracy_score(y_test, ovr.predict(X_test))\n",
        "\n",
        "# One-vs-One\n",
        "ovo = OneVsOneClassifier(SVC(kernel='linear'))\n",
        "ovo.fit(X_train, y_train)\n",
        "acc_ovo = accuracy_score(y_test, ovo.predict(X_test))\n",
        "\n",
        "print(\"OvR Accuracy:\", acc_ovr)\n",
        "print(\"OvO Accuracy:\", acc_ovo)"
      ],
      "metadata": {
        "colab": {
          "base_uri": "https://localhost:8080/"
        },
        "id": "tGJR_Qm4cpT6",
        "outputId": "56ed15c0-dac0-40d2-8df4-dca2ee59b858"
      },
      "execution_count": 16,
      "outputs": [
        {
          "output_type": "stream",
          "name": "stdout",
          "text": [
            "OvR Accuracy: 0.9777777777777777\n",
            "OvO Accuracy: 0.9777777777777777\n"
          ]
        }
      ]
    },
    {
      "cell_type": "code",
      "source": [
        "# Solution 37\n",
        "\n",
        "from sklearn.datasets import load_breast_cancer\n",
        "from sklearn.model_selection import train_test_split\n",
        "from sklearn.metrics import accuracy_score\n",
        "\n",
        "data = load_breast_cancer()\n",
        "X_train, X_test, y_train, y_test = train_test_split(data.data, data.target, random_state=42)\n",
        "\n",
        "kernels = ['linear', 'poly', 'rbf']\n",
        "for kernel in kernels:\n",
        "    model = SVC(kernel=kernel)\n",
        "    model.fit(X_train, y_train)\n",
        "    acc = accuracy_score(y_test, model.predict(X_test))\n",
        "    print(f\"Accuracy with {kernel} kernel: {acc}\")"
      ],
      "metadata": {
        "colab": {
          "base_uri": "https://localhost:8080/"
        },
        "id": "nu1rdw1Hcu66",
        "outputId": "dce7dcc9-13ff-4fb5-fc2f-b9b9fb38873d"
      },
      "execution_count": 17,
      "outputs": [
        {
          "output_type": "stream",
          "name": "stdout",
          "text": [
            "Accuracy with linear kernel: 0.958041958041958\n",
            "Accuracy with poly kernel: 0.9440559440559441\n",
            "Accuracy with rbf kernel: 0.951048951048951\n"
          ]
        }
      ]
    },
    {
      "cell_type": "code",
      "source": [
        "# Solution 38\n",
        "\n",
        "from sklearn.model_selection import StratifiedKFold, cross_val_score\n",
        "from sklearn.datasets import load_wine\n",
        "from sklearn.svm import SVC\n",
        "\n",
        "X, y = load_wine(return_X_y=True)\n",
        "model = SVC(kernel='linear')\n",
        "cv = StratifiedKFold(n_splits=5)\n",
        "scores = cross_val_score(model, X, y, cv=cv)\n",
        "\n",
        "print(\"Fold Accuracies:\", scores)\n",
        "print(\"Average Accuracy:\", scores.mean())"
      ],
      "metadata": {
        "colab": {
          "base_uri": "https://localhost:8080/"
        },
        "id": "y4AsSrn_cyb_",
        "outputId": "861f6d6e-fe90-40f7-a435-597433d73cb8"
      },
      "execution_count": 18,
      "outputs": [
        {
          "output_type": "stream",
          "name": "stdout",
          "text": [
            "Fold Accuracies: [0.88888889 0.94444444 0.97222222 1.         1.        ]\n",
            "Average Accuracy: 0.961111111111111\n"
          ]
        }
      ]
    },
    {
      "cell_type": "code",
      "source": [
        "# Solution 39\n",
        "\n",
        "from sklearn.datasets import load_iris\n",
        "from sklearn.model_selection import train_test_split\n",
        "from sklearn.naive_bayes import GaussianNB\n",
        "from sklearn.metrics import accuracy_score\n",
        "\n",
        "X, y = load_iris(return_X_y=True)\n",
        "X_train, X_test, y_train, y_test = train_test_split(X, y, random_state=42)\n",
        "\n",
        "# Default priors\n",
        "nb1 = GaussianNB()\n",
        "nb1.fit(X_train, y_train)\n",
        "acc1 = accuracy_score(y_test, nb1.predict(X_test))\n",
        "\n",
        "# Custom priors (must sum to 1)\n",
        "nb2 = GaussianNB(priors=[0.2, 0.5, 0.3])\n",
        "nb2.fit(X_train, y_train)\n",
        "acc2 = accuracy_score(y_test, nb2.predict(X_test))\n",
        "\n",
        "print(\"Default priors accuracy:\", acc1)\n",
        "print(\"Custom priors accuracy:\", acc2)"
      ],
      "metadata": {
        "colab": {
          "base_uri": "https://localhost:8080/"
        },
        "id": "FUPqAb7Vc2D1",
        "outputId": "b558947a-43a1-4bd0-93ba-8e695795f552"
      },
      "execution_count": 19,
      "outputs": [
        {
          "output_type": "stream",
          "name": "stdout",
          "text": [
            "Default priors accuracy: 1.0\n",
            "Custom priors accuracy: 1.0\n"
          ]
        }
      ]
    },
    {
      "cell_type": "code",
      "source": [
        "# Solution 40\n",
        "\n",
        "from sklearn.feature_selection import RFE\n",
        "from sklearn.datasets import load_wine\n",
        "from sklearn.svm import SVC\n",
        "from sklearn.model_selection import train_test_split\n",
        "from sklearn.metrics import accuracy_score\n",
        "\n",
        "X, y = load_wine(return_X_y=True)\n",
        "X_train, X_test, y_train, y_test = train_test_split(X, y, random_state=42)\n",
        "\n",
        "model = SVC(kernel='linear')\n",
        "rfe = RFE(model, n_features_to_select=5)\n",
        "rfe.fit(X_train, y_train)\n",
        "\n",
        "# With RFE\n",
        "X_train_rfe = rfe.transform(X_train)\n",
        "X_test_rfe = rfe.transform(X_test)\n",
        "model.fit(X_train_rfe, y_train)\n",
        "acc_rfe = accuracy_score(y_test, model.predict(X_test_rfe))\n",
        "\n",
        "# Without RFE\n",
        "model.fit(X_train, y_train)\n",
        "acc_full = accuracy_score(y_test, model.predict(X_test))\n",
        "\n",
        "print(\"Accuracy with all features:\", acc_full)\n",
        "print(\"Accuracy with RFE-selected features:\", acc_rfe)"
      ],
      "metadata": {
        "colab": {
          "base_uri": "https://localhost:8080/"
        },
        "id": "9gEteE5Yc6HV",
        "outputId": "8ad239ec-d738-4478-b110-703a447455f6"
      },
      "execution_count": 20,
      "outputs": [
        {
          "output_type": "stream",
          "name": "stdout",
          "text": [
            "Accuracy with all features: 0.9777777777777777\n",
            "Accuracy with RFE-selected features: 0.9111111111111111\n"
          ]
        }
      ]
    },
    {
      "cell_type": "code",
      "source": [
        "# Solution 41\n",
        "\n",
        "from sklearn.metrics import precision_score, recall_score, f1_score\n",
        "from sklearn.datasets import load_breast_cancer\n",
        "from sklearn.model_selection import train_test_split\n",
        "from sklearn.svm import SVC\n",
        "\n",
        "X, y = load_breast_cancer(return_X_y=True)\n",
        "X_train, X_test, y_train, y_test = train_test_split(X, y, random_state=42)\n",
        "\n",
        "model = SVC()\n",
        "model.fit(X_train, y_train)\n",
        "y_pred = model.predict(X_test)\n",
        "\n",
        "print(\"Precision:\", precision_score(y_test, y_pred))\n",
        "print(\"Recall:\", recall_score(y_test, y_pred))\n",
        "print(\"F1 Score:\", f1_score(y_test, y_pred))"
      ],
      "metadata": {
        "colab": {
          "base_uri": "https://localhost:8080/"
        },
        "id": "OVRKQUvDc9mo",
        "outputId": "46fe7017-f9e5-4fb5-fdc5-1298230da52e"
      },
      "execution_count": 21,
      "outputs": [
        {
          "output_type": "stream",
          "name": "stdout",
          "text": [
            "Precision: 0.9361702127659575\n",
            "Recall: 0.9887640449438202\n",
            "F1 Score: 0.9617486338797814\n"
          ]
        }
      ]
    },
    {
      "cell_type": "code",
      "source": [
        "# Solution 42\n",
        "\n",
        "from sklearn.metrics import log_loss\n",
        "from sklearn.datasets import load_iris\n",
        "from sklearn.model_selection import train_test_split\n",
        "from sklearn.naive_bayes import GaussianNB\n",
        "\n",
        "X, y = load_iris(return_X_y=True)\n",
        "X_train, X_test, y_train, y_test = train_test_split(X, y, random_state=42)\n",
        "\n",
        "model = GaussianNB()\n",
        "model.fit(X_train, y_train)\n",
        "y_proba = model.predict_proba(X_test)\n",
        "\n",
        "print(\"Log Loss:\", log_loss(y_test, y_proba))"
      ],
      "metadata": {
        "colab": {
          "base_uri": "https://localhost:8080/"
        },
        "id": "hFYPXL8adA_j",
        "outputId": "e1547fea-6d8b-466d-cc08-7cf1d5e77b3b"
      },
      "execution_count": 22,
      "outputs": [
        {
          "output_type": "stream",
          "name": "stdout",
          "text": [
            "Log Loss: 0.028237041769258495\n"
          ]
        }
      ]
    },
    {
      "cell_type": "code",
      "source": [
        "# Solution 43\n",
        "\n",
        "from sklearn.metrics import confusion_matrix\n",
        "import seaborn as sns\n",
        "import matplotlib.pyplot as plt\n",
        "\n",
        "X, y = load_breast_cancer(return_X_y=True)\n",
        "X_train, X_test, y_train, y_test = train_test_split(X, y, random_state=42)\n",
        "\n",
        "model = SVC()\n",
        "model.fit(X_train, y_train)\n",
        "y_pred = model.predict(X_test)\n",
        "\n",
        "cm = confusion_matrix(y_test, y_pred)\n",
        "\n",
        "sns.heatmap(cm, annot=True, fmt='d', cmap='Blues')\n",
        "plt.title(\"Confusion Matrix\")\n",
        "plt.xlabel(\"Predicted\")\n",
        "plt.ylabel(\"True\")\n",
        "plt.show()"
      ],
      "metadata": {
        "colab": {
          "base_uri": "https://localhost:8080/",
          "height": 472
        },
        "id": "epkZuXD9dFJB",
        "outputId": "c0684c83-78e7-40e4-b7d1-f74602b3776a"
      },
      "execution_count": 23,
      "outputs": [
        {
          "output_type": "display_data",
          "data": {
            "text/plain": [
              "<Figure size 640x480 with 2 Axes>"
            ],
            "image/png": "[encoded data removed]"
          },
          "metadata": {}
        }
      ]
    },
    {
      "cell_type": "code",
      "source": [
        "# Solution 44\n",
        "\n",
        "from sklearn.metrics import mean_absolute_error\n",
        "from sklearn.datasets import fetch_california_housing\n",
        "from sklearn.svm import SVR\n",
        "from sklearn.model_selection import train_test_split\n",
        "\n",
        "data = fetch_california_housing()\n",
        "X_train, X_test, y_train, y_test = train_test_split(data.data, data.target, random_state=42)\n",
        "\n",
        "model = SVR()\n",
        "model.fit(X_train, y_train)\n",
        "y_pred = model.predict(X_test)\n",
        "\n",
        "print(\"Mean Absolute Error:\", mean_absolute_error(y_test, y_pred))"
      ],
      "metadata": {
        "colab": {
          "base_uri": "https://localhost:8080/"
        },
        "id": "r0neCyZadJoA",
        "outputId": "c93470ca-bba1-41ad-e7a2-09e48f420394"
      },
      "execution_count": 24,
      "outputs": [
        {
          "output_type": "stream",
          "name": "stdout",
          "text": [
            "Mean Absolute Error: 0.8674205743031635\n"
          ]
        }
      ]
    },
    {
      "cell_type": "code",
      "source": [
        "# Solution 45\n",
        "\n",
        "from sklearn.metrics import roc_auc_score\n",
        "from sklearn.datasets import load_breast_cancer\n",
        "from sklearn.model_selection import train_test_split\n",
        "from sklearn.naive_bayes import GaussianNB\n",
        "\n",
        "X, y = load_breast_cancer(return_X_y=True)\n",
        "X_train, X_test, y_train, y_test = train_test_split(X, y, random_state=42)\n",
        "\n",
        "model = GaussianNB()\n",
        "model.fit(X_train, y_train)\n",
        "y_proba = model.predict_proba(X_test)[:, 1]  # Prob for positive class\n",
        "\n",
        "print(\"ROC-AUC Score:\", roc_auc_score(y_test, y_proba))"
      ],
      "metadata": {
        "colab": {
          "base_uri": "https://localhost:8080/"
        },
        "id": "q08iL6YEdOVI",
        "outputId": "9df5f728-c924-4bfe-f0e1-eb9bda6f8bc2"
      },
      "execution_count": 25,
      "outputs": [
        {
          "output_type": "stream",
          "name": "stdout",
          "text": [
            "ROC-AUC Score: 0.9935497295047857\n"
          ]
        }
      ]
    },
    {
      "cell_type": "code",
      "source": [
        "# Solution 46\n",
        "\n",
        "from sklearn.metrics import precision_recall_curve, PrecisionRecallDisplay\n",
        "\n",
        "X, y = load_breast_cancer(return_X_y=True)\n",
        "X_train, X_test, y_train, y_test = train_test_split(X, y, random_state=42)\n",
        "\n",
        "model = SVC(probability=True)\n",
        "model.fit(X_train, y_train)\n",
        "y_score = model.predict_proba(X_test)[:, 1]\n",
        "\n",
        "precision, recall, _ = precision_recall_curve(y_test, y_score)\n",
        "disp = PrecisionRecallDisplay(precision=precision, recall=recall)\n",
        "disp.plot()\n",
        "plt.title(\"Precision-Recall Curve\")\n",
        "plt.show()"
      ],
      "metadata": {
        "colab": {
          "base_uri": "https://localhost:8080/",
          "height": 472
        },
        "id": "8kU7gzr_dSiF",
        "outputId": "b636121f-f5ea-4a36-ec1f-c166e3f3f3ce"
      },
      "execution_count": 26,
      "outputs": [
        {
          "output_type": "display_data",
          "data": {
            "text/plain": [
              "<Figure size 640x480 with 1 Axes>"
            ],
            "image/png": "[encoded data removed]"
          },
          "metadata": {}
        }
      ]
    }
  ]
}